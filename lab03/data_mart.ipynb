{
 "cells": [
  {
   "cell_type": "code",
   "execution_count": null,
   "metadata": {},
   "outputs": [],
   "source": [
    "val username = \"\"\n",
    "val password = \"\""
   ]
  },
  {
   "cell_type": "code",
   "execution_count": 32,
   "metadata": {},
   "outputs": [
    {
     "data": {
      "text/plain": [
       "conf = org.apache.spark.SparkConf@75f3e746\n",
       "sparkSession = org.apache.spark.sql.SparkSession@303fb1df\n",
       "sc = org.apache.spark.SparkContext@371b6748\n",
       "sqlContext = org.apache.spark.sql.SQLContext@44ce6f65\n"
      ]
     },
     "metadata": {},
     "output_type": "display_data"
    },
    {
     "data": {
      "text/plain": [
       "warning: there was one deprecation warning; re-run with -deprecation for details\n"
      ]
     },
     "metadata": {},
     "output_type": "display_data"
    },
    {
     "data": {
      "text/plain": [
       "org.apache.spark.sql.SQLContext@44ce6f65"
      ]
     },
     "execution_count": 32,
     "metadata": {},
     "output_type": "execute_result"
    }
   ],
   "source": [
    "import org.apache.spark.SparkContext\n",
    "import org.apache.spark.SparkConf\n",
    "import org.apache.spark.sql.{SQLContext, DataFrame}\n",
    "import org.apache.spark.sql.functions._\n",
    "\n",
    "val conf = new SparkConf()\n",
    "                            .setAppName(\"lab3\")\n",
    "                            .setAll(Map(\"spark.cassandra.connection.host\" -> \"10.0.1.9\",\n",
    "                                        \"spark.cassandra.connection.port\" -> \"9042\",\n",
    "                                        \"spark.cassandra.auth.username\" -> username,\n",
    "                                        \"spark.cassandra.auth.password\" -> password))\n",
    "\n",
    "val sparkSession = SparkSession.builder()\n",
    "                                  .config(conf=conf)\n",
    "                                  .getOrCreate()\n",
    "\n",
    "var sc = sparkSession.sparkContext\n",
    "val sqlContext = new SQLContext(sc)"
   ]
  },
  {
   "cell_type": "markdown",
   "metadata": {},
   "source": [
    "###### драйвер: https://mvnrepository.com/artifact/org.postgresql/postgresql/42.2.12"
   ]
  },
  {
   "cell_type": "code",
   "execution_count": 2,
   "metadata": {},
   "outputs": [
    {
     "name": "stdout",
     "output_type": "stream",
     "text": [
      "Starting download from file:///data/home/kirill.likhouzov/Drivers/postgresql-42.2.12.jar\n"
     ]
    },
    {
     "data": {
      "text/plain": [
       "Waiting for a Spark session to start..."
      ]
     },
     "metadata": {},
     "output_type": "display_data"
    },
    {
     "name": "stdout",
     "output_type": "stream",
     "text": [
      "Finished download of postgresql-42.2.12.jar\n",
      "Starting download from file:///data/home/kirill.likhouzov/Drivers/spark-cassandra-connector_2.11-2.4.3.jar\n",
      "Finished download of spark-cassandra-connector_2.11-2.4.3.jar\n",
      "Starting download from file:///data/home/kirill.likhouzov/Drivers/elasticsearch-spark-20_2.11-7.6.2.jar\n",
      "Finished download of elasticsearch-spark-20_2.11-7.6.2.jar\n"
     ]
    }
   ],
   "source": [
    "%AddJar file:///data/home/kirill.likhouzov/Drivers/postgresql-42.2.12.jar\n",
    "%AddJar file:///data/home/kirill.likhouzov/Drivers/spark-cassandra-connector_2.11-2.4.3.jar\n",
    "%AddJar file:///data/home/kirill.likhouzov/Drivers/elasticsearch-spark-20_2.11-7.6.2.jar"
   ]
  },
  {
   "cell_type": "markdown",
   "metadata": {},
   "source": [
    "## Input Data"
   ]
  },
  {
   "cell_type": "markdown",
   "metadata": {},
   "source": [
    "### hdfs"
   ]
  },
  {
   "cell_type": "code",
   "execution_count": 3,
   "metadata": {},
   "outputs": [
    {
     "data": {
      "text/plain": [
       "weblogs = [uid: string, visits: array<struct<timestamp:bigint,url:string>>]\n"
      ]
     },
     "metadata": {},
     "output_type": "display_data"
    },
    {
     "data": {
      "text/plain": [
       "[uid: string, visits: array<struct<timestamp:bigint,url:string>>]"
      ]
     },
     "execution_count": 3,
     "metadata": {},
     "output_type": "execute_result"
    }
   ],
   "source": [
    "val weblogs = spark\n",
    "                .read\n",
    "                .parquet(\"/labs/laba03/weblogs.parquet\")\n",
    "                .repartition(1)\n",
    "                .cache()"
   ]
  },
  {
   "cell_type": "code",
   "execution_count": 4,
   "metadata": {},
   "outputs": [
    {
     "data": {
      "text/plain": [
       "36138"
      ]
     },
     "execution_count": 4,
     "metadata": {},
     "output_type": "execute_result"
    }
   ],
   "source": [
    "weblogs.count()"
   ]
  },
  {
   "cell_type": "code",
   "execution_count": 5,
   "metadata": {},
   "outputs": [
    {
     "name": "stdout",
     "output_type": "stream",
     "text": [
      "-RECORD 0------------------------------------------------------------------------------------------------------------------------------------------------------------------------------------------------------------------------------------------------------------------------------------------------------------------------------------------------------------------------------------------------------------------------------------------------------------------------------------------------------------------------------------------------------------------------------------------------------------------------------------------------------------------------------------------------------------------------------------------------------------------------------------------------------------------------------------------------------------------------------------------------------------------------------------------------------------------------------------------------------------------------------------------\n",
      " uid    | 3761db96-4a89-4612-be74-9567ab2f21aa                                                                                                                                                                                                                                                                                                                                                                                                                                                                                                                                                                                                                                                                                                                                                                                                                                                                                                                                                                                                     \n",
      " visits | [[1419596441719, http://na.buhgalteria.ru/document/n117802], [1419596379453, http://www.buhgalteria.ru/news/n117650], [1419596302831, http://www.buhgalteria.ru/news/n117650], [1418759262864, http://astramir.ru/online_interp.php], [1418758754974, http://go.mail.ru/search_images?q=пурпурный цвет фото&fr=web&rch=l&jsa=1], [1418758735714, http://astramir.ru/online_interp.php], [1418752839158, http://astramir.ru/online_interp.php], [1418752725616, http://astramir.ru/online_chart.php], [1418244173648, http://www.cablook.com/mixlook/eksperiment-vselennaya-25-kak-raj-stal-adom/], [1418223815574, http://www.softmassive.com/program-20555-pechat_biletov.html], [1418062242455, http://www.cluber.com.ua/lifestyle/samorazvitie-lifestyle/2014/11/20-veshhey-ot-kotorykh-nuzhno-uspet-izbavitsya-do-novogo-goda/], [1418060344549, http://www.sumok-magazin.ru/content/yarkaya-sumka-zara-zara], [1418044045737, http://www.sumok-magazin.ru/category/katalog/alba-soboni], [1418044037560, http://www.sumok-magazi... \n",
      "only showing top 1 row\n",
      "\n"
     ]
    }
   ],
   "source": [
    "weblogs.show(1, 1000, true)"
   ]
  },
  {
   "cell_type": "markdown",
   "metadata": {},
   "source": [
    "### postgress"
   ]
  },
  {
   "cell_type": "code",
   "execution_count": 6,
   "metadata": {},
   "outputs": [
    {
     "data": {
      "text/plain": [
       "domain_cats = [domain: string, category: string]\n"
      ]
     },
     "metadata": {},
     "output_type": "display_data"
    },
    {
     "data": {
      "text/plain": [
       "[domain: string, category: string]"
      ]
     },
     "execution_count": 6,
     "metadata": {},
     "output_type": "execute_result"
    }
   ],
   "source": [
    "val domain_cats = spark\n",
    "                    .read\n",
    "                    .format(\"jdbc\")\n",
    "                    .option(\"url\", \"jdbc:postgresql://10.0.1.9:5432/labdata\")\n",
    "                    .option(\"dbtable\", \"domain_cats\")\n",
    "                    .option(\"user\", username)\n",
    "                    .option(\"password\", password)\n",
    "                    .option(\"driver\", \"org.postgresql.Driver\")\n",
    "                    .load()\n",
    "                    .repartition(1)\n",
    "                    .cache()"
   ]
  },
  {
   "cell_type": "code",
   "execution_count": 7,
   "metadata": {},
   "outputs": [
    {
     "data": {
      "text/plain": [
       "245981"
      ]
     },
     "execution_count": 7,
     "metadata": {},
     "output_type": "execute_result"
    }
   ],
   "source": [
    "domain_cats.count()"
   ]
  },
  {
   "cell_type": "code",
   "execution_count": 8,
   "metadata": {},
   "outputs": [
    {
     "name": "stdout",
     "output_type": "stream",
     "text": [
      "+----------------------+--------+\n",
      "|domain                |category|\n",
      "+----------------------+--------+\n",
      "|national-lottery.co.uk|gambling|\n",
      "+----------------------+--------+\n",
      "only showing top 1 row\n",
      "\n"
     ]
    }
   ],
   "source": [
    "domain_cats.show(1, false)"
   ]
  },
  {
   "cell_type": "markdown",
   "metadata": {},
   "source": [
    "### ElasticSearch"
   ]
  },
  {
   "cell_type": "code",
   "execution_count": 9,
   "metadata": {},
   "outputs": [
    {
     "data": {
      "text/plain": [
       "visits = [category: string, event_type: string ... 4 more fields]\n"
      ]
     },
     "metadata": {},
     "output_type": "display_data"
    },
    {
     "data": {
      "text/plain": [
       "[category: string, event_type: string ... 4 more fields]"
      ]
     },
     "execution_count": 9,
     "metadata": {},
     "output_type": "execute_result"
    }
   ],
   "source": [
    "val visits = spark\n",
    "            .read\n",
    "            .format(\"org.elasticsearch.spark.sql\")\n",
    "            .option(\"es.nodes.wan.only\",\"true\")\n",
    "            .option(\"es.nodes\", \"10.0.1.9\")\n",
    "            .option(\"es.port\", \"9200\")\n",
    "            .load(\"visits\")\n",
    "            .repartition(1)\n",
    "            .cache()"
   ]
  },
  {
   "cell_type": "code",
   "execution_count": 10,
   "metadata": {},
   "outputs": [
    {
     "data": {
      "text/plain": [
       "182540"
      ]
     },
     "execution_count": 10,
     "metadata": {},
     "output_type": "execute_result"
    }
   ],
   "source": [
    "visits.count()"
   ]
  },
  {
   "cell_type": "code",
   "execution_count": 11,
   "metadata": {},
   "outputs": [
    {
     "name": "stdout",
     "output_type": "stream",
     "text": [
      "+-----------------------+----------+-------------------------+----------+-------------------+------------------------------------+\n",
      "|category               |event_type|item_id                  |item_price|timestamp          |uid                                 |\n",
      "+-----------------------+----------+-------------------------+----------+-------------------+------------------------------------+\n",
      "|Entertainment-equipment|buy       |Entertainment-equipment-2|2529      |2020-01-01 11:00:00|40b29579-e845-45c0-a34d-03630d296a81|\n",
      "+-----------------------+----------+-------------------------+----------+-------------------+------------------------------------+\n",
      "only showing top 1 row\n",
      "\n"
     ]
    }
   ],
   "source": [
    "visits.show(1, false)"
   ]
  },
  {
   "cell_type": "markdown",
   "metadata": {},
   "source": [
    "### Cassandra"
   ]
  },
  {
   "cell_type": "code",
   "execution_count": 12,
   "metadata": {},
   "outputs": [
    {
     "data": {
      "text/plain": [
       "connector = com.datastax.spark.connector.cql.CassandraConnector@32c3f3b\n"
      ]
     },
     "metadata": {},
     "output_type": "display_data"
    },
    {
     "data": {
      "text/plain": [
       "com.datastax.spark.connector.cql.CassandraConnector@32c3f3b"
      ]
     },
     "execution_count": 12,
     "metadata": {},
     "output_type": "execute_result"
    }
   ],
   "source": [
    "import org.apache.spark.sql.cassandra._\n",
    "import com.datastax.spark.connector._\n",
    "import com.datastax.spark.connector.cql.CassandraConnector\n",
    "\n",
    "val connector = CassandraConnector(sc.getConf)"
   ]
  },
  {
   "cell_type": "code",
   "execution_count": 13,
   "metadata": {},
   "outputs": [
    {
     "data": {
      "text/plain": [
       "clients = [uid: string, age: int ... 1 more field]\n"
      ]
     },
     "metadata": {},
     "output_type": "display_data"
    },
    {
     "data": {
      "text/plain": [
       "[uid: string, age: int ... 1 more field]"
      ]
     },
     "execution_count": 13,
     "metadata": {},
     "output_type": "execute_result"
    }
   ],
   "source": [
    "val clients= spark.read\n",
    "                .format(\"org.apache.spark.sql.cassandra\")\n",
    "                .options(Map(\"table\" -> \"clients\", \"keyspace\" -> \"labdata\"))\n",
    "                .load()\n",
    "                .repartition(1)\n",
    "                .cache()"
   ]
  },
  {
   "cell_type": "code",
   "execution_count": 14,
   "metadata": {},
   "outputs": [
    {
     "data": {
      "text/plain": [
       "36138"
      ]
     },
     "execution_count": 14,
     "metadata": {},
     "output_type": "execute_result"
    }
   ],
   "source": [
    "clients.count()"
   ]
  },
  {
   "cell_type": "code",
   "execution_count": 15,
   "metadata": {},
   "outputs": [
    {
     "name": "stdout",
     "output_type": "stream",
     "text": [
      "+------------------------------------+---+------+\n",
      "|uid                                 |age|gender|\n",
      "+------------------------------------+---+------+\n",
      "|2f3a4f67-2790-45b4-bdd2-7fd6d3e7c24b|39 |M     |\n",
      "+------------------------------------+---+------+\n",
      "only showing top 1 row\n",
      "\n"
     ]
    }
   ],
   "source": [
    "clients.show(1, false)"
   ]
  },
  {
   "cell_type": "code",
   "execution_count": null,
   "metadata": {},
   "outputs": [],
   "source": []
  },
  {
   "cell_type": "code",
   "execution_count": null,
   "metadata": {},
   "outputs": [],
   "source": []
  },
  {
   "cell_type": "code",
   "execution_count": null,
   "metadata": {},
   "outputs": [],
   "source": []
  },
  {
   "cell_type": "markdown",
   "metadata": {},
   "source": [
    "## Aggregation"
   ]
  },
  {
   "cell_type": "markdown",
   "metadata": {},
   "source": [
    "### visits"
   ]
  },
  {
   "cell_type": "code",
   "execution_count": 16,
   "metadata": {
    "collapsed": true
   },
   "outputs": [
    {
     "name": "stdout",
     "output_type": "stream",
     "text": [
      "+------------------------------------+---+------+------------+\n",
      "|uid                                 |age|gender|age_category|\n",
      "+------------------------------------+---+------+------------+\n",
      "|2f3a4f67-2790-45b4-bdd2-7fd6d3e7c24b|39 |M     |35-44       |\n",
      "+------------------------------------+---+------+------------+\n",
      "only showing top 1 row\n",
      "\n"
     ]
    },
    {
     "data": {
      "text/plain": [
       "clients_ages = [uid: string, age: int ... 2 more fields]\n"
      ]
     },
     "metadata": {},
     "output_type": "display_data"
    },
    {
     "data": {
      "text/plain": [
       "error: error while loading QualifiedTableName, class file '/usr/hdp/3.1.4.0-315/spark2/jars/spark-catalyst_2.11-2.4.5.jar(org/apache/spark/sql/catalyst/QualifiedTableName.class)' has location not matching its contents: contains class QualifiedTableName\n",
       "error: error while loading JavaTypeInference, class file '/usr/hdp/3.1.4.0-315/spark2/jars/spark-catalyst_2.11-2.4.5.jar(org/apache/spark/sql/catalyst/JavaTypeInference.class)' has location not matching its contents: contains class JavaTypeInference\n",
       "error: error while loading FunctionIdentifier, class file '/usr/hdp/3.1.4.0-315/spark2/jars/spark-catalyst_2.11-2.4.5.jar(org/apache/spark/sql/catalyst/FunctionIdentifier.class)' has location not matching its contents: contains class FunctionIdentifier\n",
       "error: error while loading DefinedByConstructorParams, class file '/usr/hdp/3.1.4.0-315/spark2/jars/spark-catalyst_2.11-2.4.5.jar(org/apache/spark/sql/catalyst/DefinedByConstructorParams.class)' has location not matching its contents: contains class DefinedByConstructorParams\n",
       "error: error while loading IdentifierWithDatabase, class file '/usr/hdp/3.1.4.0-315/spark2/jars/spark-catalyst_2.11-2.4.5.jar(org/apache/spark/sql/catalyst/IdentifierWithDatabase.class)' has location not matching its contents: contains class IdentifierWithDatabase\n",
       "error: error while loading SpecializedGetters, class file '/usr/hdp/3.1.4.0-315/spark2/jars/spark-catalyst_2.11-2.4.5.jar(org/apache/spark/sql/catalyst/expressions/SpecializedGetters.class)' has location not matching its contents: contains class SpecializedGetters\n",
       "error: error while loading Decimal, class file '/usr/hdp/3.1.4.0-315/spark2/jars/spark-catalyst_2.11-2.4.5.jar(org/apache/spark/sql/types/Decimal.class)' has location not matching its contents: contains class Decimal\n",
       "error: error while loading ObjectType, class file '/usr/hdp/3.1.4.0-315/spark2/jars/spark-catalyst_2.11-2.4.5.jar(org/apache/spark/sql/types/ObjectType.class)' has location not matching its contents: contains class ObjectType\n",
       "error: error while loading Expression, class file '/usr/hdp/3.1.4.0-315/spark2/jars/spark-catalyst_2.11-2.4.5.jar(org/apache/spark/sql/catalyst/expressions/Expression.class)' has location not matching its contents: contains class Expression\n",
       "error: error while loading CreateNamedStruct, class file '/usr/hdp/3.1.4.0-315/spark2/jars/spark-catalyst_2.11-2.4.5.jar(org/apache/spark/sql/catalyst/expressions/CreateNamedStruct.class)' has location not matching its contents: contains class CreateNamedStruct\n",
       "error: error while loading Attribute, class file '/usr/hdp/3.1.4.0-315/spark2/jars/spark-catalyst_2.11-2.4.5.jar(org/apache/spark/sql/catalyst/expressions/Attribute.class)' has location not matching its contents: contains class Attribute\n",
       "error: error while loading AliasIdentifier, class file '/usr/hdp/3.1.4.0-315/spark2/jars/spark-catalyst_2.11-2.4.5.jar(org/apache/spark/sql/catalyst/AliasIdentifier.class)' has location not matching its contents: contains class AliasIdentifier\n",
       "error: error while loading CatalystTypeConverters, class file '/usr/hdp/3.1.4.0-315/spark2/jars/spark-catalyst_2.11-2.4.5.jar(org/apache/spark/sql/catalyst/CatalystTypeConverters.class)' has location not matching its contents: contains class CatalystTypeConverters\n",
       "error: error while loading ScalaSubtypeLock, class file '/usr/hdp/3.1.4.0-315/spark2/jars/spark-catalyst_2.11-2.4.5.jar(org/apache/spark/sql/catalyst/ScalaSubtypeLock.class)' has location not matching its contents: contains class ScalaSubtypeLock\n",
       "error: error while loading package, class file '/usr/hdp/3.1.4.0-315/spark2/jars/spark-catalyst_2.11-2.4.5.jar(org/apache/spark/sql/catalyst/dsl/package.class)' has location not matching its contents: contains package object dsl\n",
       "error: error while loading package, class file '/usr/hdp/3.1.4.0-315/spark2/jars/spark-catalyst_2.11-2.4.5.jar(org/apache/spark/sql/catalyst/util/package.class)' has location not matching its contents: contains package object util\n",
       "error: error while loading package, class file '/usr/hdp/3.1.4.0-315/spark2/jars/spark-catalyst_2.11-2.4.5.jar(org/apache/spark/sql/catalyst/errors/package.class)' has location not matching its contents: contains package object errors\n",
       "error: error while loading MarkerFactory, class file '/usr/hdp/3.1.4.0-315/spark2/jars/slf4j-api-1.7.16.jar(org/slf4j/MarkerFactory.class)' has location not matching its contents: contains class MarkerFactory\n",
       "error: error while loading ILoggerFactory, class file '/usr/hdp/3.1.4.0-315/spark2/jars/slf4j-api-1.7.16.jar(org/slf4j/ILoggerFactory.class)' has location not matching its contents: contains class ILoggerFactory\n",
       "error: error while loading MDC, class file '/usr/hdp/3.1.4.0-315/spark2/jars/slf4j-api-1.7.16.jar(org/slf4j/MDC.class)' has location not matching its contents: contains class MDC\n",
       "error: error while loading LoggerFactory, class file '/usr/hdp/3.1.4.0-315/spark2/jars/slf4j-api-1.7.16.jar(org/slf4j/LoggerFactory.class)' has location not matching its contents: contains class LoggerFactory\n",
       "error: error while loading Marker, class file '/usr/hdp/3.1.4.0-315/spark2/jars/slf4j-api-1.7.16.jar(org/slf4j/Marker.class)' has location not matching its contents: contains class Marker\n",
       "error: error while loading IMarkerFactory, class file '/usr/hdp/3.1.4.0-315/spark2/jars/slf4j-api-1.7.16.jar(org/slf4j/IMarkerFactory.class)' has location not matching its contents: contains class IMarkerFactory\n",
       "error: error while loading NDC, class file '/usr/hdp/3.1.4.0-315/spark2/jars/log4j-1.2.17.jar(org/apache/log4j/NDC.class)' has location not matching its contents: contains class NDC\n",
       "error: error while loading SortedKeyEnumeration, class file '/usr/hdp/3.1.4.0-315/spark2/jars/log4j-1.2.17.jar(org/apache/log4j/SortedKeyEnumeration.class)' has location not matching its contents: contains class SortedKeyEnumeration\n",
       "error: error while loading Hierarchy, class file '/usr/hdp/3.1.4.0-315/spark2/jars/log4j-1.2.17.jar(org/apache/log4j/Hierarchy.class)' has location not matching its contents: contains class Hierarchy\n",
       "error: error while loading SimpleLayout, class file '/usr/hdp/3.1.4.0-315/spark2/jars/log4j-1.2.17.jar(org/apache/log4j/SimpleLayout.class)' has location not matching its contents: contains class SimpleLayout\n",
       "error: error while loading PatternLayout, class file '/usr/hdp/3.1.4.0-315/spark2/jars/log4j-1.2.17.jar(org/apache/log4j/PatternLayout.class)' has location not matching its contents: contains class PatternLayout\n",
       "error: error while loading LogSF, class file '/usr/hdp/3.1.4.0-315/spark2/jars/log4j-1.2.17.jar(org/apache/log4j/LogSF.class)' has location not matching its contents: contains class LogSF\n",
       "error: error while loading ProvisionNode, class file '/usr/hdp/3.1.4.0-315/spark2/jars/log4j-1.2.17.jar(org/apache/log4j/ProvisionNode.class)' has location not matching its contents: contains class ProvisionNode\n",
       "error: error while loading Appender, class file '/usr/hdp/3.1.4.0-315/spark2/jars/log4j-1.2.17.jar(org/apache/log4j/Appender.class)' has location not matching its contents: contains class Appender\n",
       "error: error while loading Category, class file '/usr/hdp/3.1.4.0-315/spark2/jars/log4j-1.2.17.jar(org/apache/log4j/Category.class)' has location not matching its contents: contains class Category\n",
       "error: error while loading RollingFileAppender, class file '/usr/hdp/3.1.4.0-315/spark2/jars/log4j-1.2.17.jar(org/apache/log4j/RollingFileAppender.class)' has location not matching its contents: contains class RollingFileAppender\n",
       "error: error while loading WriterAppender, class file '/usr/hdp/3.1.4.0-315/spark2/jars/log4j-1.2.17.jar(org/apache/log4j/WriterAppender.class)' has location not matching its contents: contains class WriterAppender\n",
       "error: error while loading HTMLLayout, class file '/usr/hdp/3.1.4.0-315/spark2/jars/log4j-1.2.17.jar(org/apache/log4j/HTMLLayout.class)' has location not matching its contents: contains class HTMLLayout\n",
       "error: error while loading EnhancedPatternLayout, class file '/usr/hdp/3.1.4.0-315/spark2/jars/log4j-1.2.17.jar(org/apache/log4j/EnhancedPatternLayout.class)' has location not matching its contents: contains class EnhancedPatternLayout\n",
       "error: error while loading DailyRollingFileAppender, class file '/usr/hdp/3.1.4.0-315/spark2/jars/log4j-1.2.17.jar(org/apache/log4j/DailyRollingFileAppender.class)' has location not matching its contents: contains class DailyRollingFileAppender\n",
       "error: error while loading FileAppender, class file '/usr/hdp/3.1.4.0-315/spark2/jars/log4j-1.2.17.jar(org/apache/log4j/FileAppender.class)' has location not matching its contents: contains class FileAppender\n",
       "error: error while loading Dispatcher, class file '/usr/hdp/3.1.4.0-315/spark2/jars/log4j-1.2.17.jar(org/apache/log4j/Dispatcher.class)' has location not matching its contents: contains class Dispatcher\n",
       "error: error while loading DefaultCategoryFactory, class file '/usr/hdp/3.1.4.0-315/spark2/jars/log4j-1.2.17.jar(org/apache/log4j/DefaultCategoryFactory.class)' has location not matching its contents: contains class DefaultCategoryFactory\n",
       "error: error while loading MDC, class file '/usr/hdp/3.1.4.0-315/spark2/jars/log4j-1.2.17.jar(org/apache/log4j/MDC.class)' has location not matching its contents: contains class MDC\n",
       "error: error while loading Priority, class file '/usr/hdp/3.1.4.0-315/spark2/jars/log4j-1.2.17.jar(org/apache/log4j/Priority.class)' has location not matching its contents: contains class Priority\n",
       "error: error while loading DefaultThrowableRenderer, class file '/usr/hdp/3.1.4.0-315/spark2/jars/log4j-1.2.17.jar(org/apache/log4j/DefaultThrowableRenderer.class)' has location not matching its contents: contains class DefaultThrowableRenderer\n",
       "error: error while loading LogMF, class file '/usr/hdp/3.1.4.0-315/spark2/jars/log4j-1.2.17.jar(org/apache/log4j/LogMF.class)' has location not matching its contents: contains class LogMF\n",
       "error: error while loading PropertyConfigurator, class file '/usr/hdp/3.1.4.0-315/spark2/jars/log4j-1.2.17.jar(org/apache/log4j/PropertyConfigurator.class)' has location not matching its contents: contains class PropertyConfigurator\n",
       "error: error while loading PropertyWatchdog, class file '/usr/hdp/3.1.4.0-315/spark2/jars/log4j-1.2.17.jar(org/apache/log4j/PropertyWatchdog.class)' has location not matching its contents: contains class PropertyWatchdog\n",
       "error: error while loading EnhancedThrowableRenderer, class file '/usr/hdp/3.1.4.0-315/spark2/jars/log4j-1.2.17.jar(org/apache/log4j/EnhancedThrowableRenderer.class)' has location not matching its contents: contains class EnhancedThrowableRenderer\n",
       "error: error while loading BasicConfigurator, class file '/usr/hdp/3.1.4.0-315/spark2/jars/log4j-1.2.17.jar(org/apache/log4j/BasicConfigurator.class)' has location not matching its contents: contains class BasicConfigurator\n",
       "error: error while loading AppenderSkeleton, class file '/usr/hdp/3.1.4.0-315/spark2/jars/log4j-1.2.17.jar(org/apache/log4j/AppenderSkeleton.class)' has location not matching its contents: contains class AppenderSkeleton\n",
       "error: error while loading Logger, class file '/usr/hdp/3.1.4.0-315/spark2/jars/log4j-1.2.17.jar(org/apache/log4j/Logger.class)' has location not matching its contents: contains class Logger\n",
       "error: error while loading Level, class file '/usr/hdp/3.1.4.0-315/spark2/jars/log4j-1.2.17.jar(org/apache/log4j/Level.class)' has location not matching its contents: contains class Level\n",
       "error: error while loading LogManager, class file '/usr/hdp/3.1.4.0-315/spark2/jars/log4j-1.2.17.jar(org/apache/log4j/LogManager.class)' has location not matching its contents: contains class LogManager\n",
       "error: error while loading RollingCalendar, class file '/usr/hdp/3.1.4.0-315/spark2/jars/log4j-1.2.17.jar(org/apache/log4j/RollingCalendar.class)' has location not matching its contents: contains class RollingCalendar\n",
       "error: error while loading LogXF, class file '/usr/hdp/3.1.4.0-315/spark2/jars/log4j-1.2.17.jar(org/apache/log4j/LogXF.class)' has location not matching its contents: contains class LogXF\n",
       "error: error while loading TTCCLayout, class file '/usr/hdp/3.1.4.0-315/spark2/jars/log4j-1.2.17.jar(org/apache/log4j/TTCCLayout.class)' has location not matching its contents: contains class TTCCLayout\n",
       "error: error while loading NameValue, class file '/usr/hdp/3.1.4.0-315/spark2/jars/log4j-1.2.17.jar(org/apache/log4j/NameValue.class)' has location not matching its contents: contains class NameValue\n",
       "error: error while loading CategoryKey, class file '/usr/hdp/3.1.4.0-315/spark2/jars/log4j-1.2.17.jar(org/apache/log4j/CategoryKey.class)' has location not matching its contents: contains class CategoryKey\n",
       "error: error while loading Layout, class file '/usr/hdp/3.1.4.0-315/spark2/jars/log4j-1.2.17.jar(org/apache/log4j/Layout.class)' has location not matching its contents: contains class Layout\n",
       "error: error while loading ConsoleAppender, class file '/usr/hdp/3.1.4.0-315/spark2/jars/log4j-1.2.17.jar(org/apache/log4j/ConsoleAppender.class)' has location not matching its contents: contains class ConsoleAppender\n",
       "error: error while loading AsyncAppender, class file '/usr/hdp/3.1.4.0-315/spark2/jars/log4j-1.2.17.jar(org/apache/log4j/AsyncAppender.class)' has location not matching its contents: contains class AsyncAppender\n",
       "error: error while loading DBAppender, class file '/usr/hdp/3.1.4.0-315/spark2/jars/apache-log4j-extras-1.2.17.jar(org/apache/log4j/DBAppender.class)' has location not matching its contents: contains class DBAppender\n",
       "error: error while loading LoggerRepositoryExImpl, class file '/usr/hdp/3.1.4.0-315/spark2/jars/apache-log4j-extras-1.2.17.jar(org/apache/log4j/LoggerRepositoryExImpl.class)' has location not matching its contents: contains class LoggerRepositoryExImpl\n",
       "error: error while loading ByteType, class file '/usr/hdp/3.1.4.0-315/spark2/jars/spark-catalyst_2.11-2.4.5.jar(org/apache/spark/sql/types/ByteType.class)' has location not matching its contents: contains class ByteType\n",
       "error: error while loading PythonUserDefinedType, class file '/usr/hdp/3.1.4.0-315/spark2/jars/spark-catalyst_2.11-2.4.5.jar(org/apache/spark/sql/types/PythonUserDefinedType.class)' has location not matching its contents: contains class PythonUserDefinedType\n",
       "error: error while loading Metadata, class file '/usr/hdp/3.1.4.0-315/spark2/jars/spark-catalyst_2.11-2.4.5.jar(org/apache/spark/sql/types/Metadata.class)' has location not matching its contents: contains class Metadata\n",
       "error: error while loading UserDefinedType, class file '/usr/hdp/3.1.4.0-315/spark2/jars/spark-catalyst_2.11-2.4.5.jar(org/apache/spark/sql/types/UserDefinedType.class)' has location not matching its contents: contains class UserDefinedType\n",
       "error: error while loading DataTypes, class file '/usr/hdp/3.1.4.0-315/spark2/jars/spark-catalyst_2.11-2.4.5.jar(org/apache/spark/sql/types/DataTypes.class)' has location not matching its contents: contains class DataTypes\n",
       "error: error while loading LongType, class file '/usr/hdp/3.1.4.0-315/spark2/jars/spark-catalyst_2.11-2.4.5.jar(org/apache/spark/sql/types/LongType.class)' has location not matching its contents: contains class LongType\n",
       "error: error while loading NumericType, class file '/usr/hdp/3.1.4.0-315/spark2/jars/spark-catalyst_2.11-2.4.5.jar(org/apache/spark/sql/types/NumericType.class)' has location not matching its contents: contains class NumericType\n",
       "error: error while loading StructField, class file '/usr/hdp/3.1.4.0-315/spark2/jars/spark-catalyst_2.11-2.4.5.jar(org/apache/spark/sql/types/StructField.class)' has location not matching its contents: contains class StructField\n",
       "error: error while loading MetadataBuilder, class file '/usr/hdp/3.1.4.0-315/spark2/jars/spark-catalyst_2.11-2.4.5.jar(org/apache/spark/sql/types/MetadataBuilder.class)' has location not matching its contents: contains class MetadataBuilder\n",
       "error: error while loading FractionalType, class file '/usr/hdp/3.1.4.0-315/spark2/jars/spark-catalyst_2.11-2.4.5.jar(org/apache/spark/sql/types/FractionalType.class)' has location not matching its contents: contains class FractionalType\n",
       "error: error while loading TypeCollection, class file '/usr/hdp/3.1.4.0-315/spark2/jars/spark-catalyst_2.11-2.4.5.jar(org/apache/spark/sql/types/TypeCollection.class)' has location not matching its contents: contains class TypeCollection\n",
       "error: error while loading DoubleType, class file '/usr/hdp/3.1.4.0-315/spark2/jars/spark-catalyst_2.11-2.4.5.jar(org/apache/spark/sql/types/DoubleType.class)' has location not matching its contents: contains class DoubleType\n",
       "error: error while loading AnyDataType, class file '/usr/hdp/3.1.4.0-315/spark2/jars/spark-catalyst_2.11-2.4.5.jar(org/apache/spark/sql/types/AnyDataType.class)' has location not matching its contents: contains class AnyDataType\n",
       "error: error while loading StringType, class file '/usr/hdp/3.1.4.0-315/spark2/jars/spark-catalyst_2.11-2.4.5.jar(org/apache/spark/sql/types/StringType.class)' has location not matching its contents: contains class StringType\n",
       "error: error while loading NullType, class file '/usr/hdp/3.1.4.0-315/spark2/jars/spark-catalyst_2.11-2.4.5.jar(org/apache/spark/sql/types/NullType.class)' has location not matching its contents: contains class NullType\n",
       "error: error while loading ShortType, class file '/usr/hdp/3.1.4.0-315/spark2/jars/spark-catalyst_2.11-2.4.5.jar(org/apache/spark/sql/types/ShortType.class)' has location not matching its contents: contains class ShortType\n",
       "error: error while loading IntegralType, class file '/usr/hdp/3.1.4.0-315/spark2/jars/spark-catalyst_2.11-2.4.5.jar(org/apache/spark/sql/types/IntegralType.class)' has location not matching its contents: contains class IntegralType\n",
       "error: error while loading AbstractDataType, class file '/usr/hdp/3.1.4.0-315/spark2/jars/spark-catalyst_2.11-2.4.5.jar(org/apache/spark/sql/types/AbstractDataType.class)' has location not matching its contents: contains class AbstractDataType\n",
       "error: error while loading InterpretedOrdering, class file '/usr/hdp/3.1.4.0-315/spark2/jars/spark-catalyst_2.11-2.4.5.jar(org/apache/spark/sql/catalyst/expressions/InterpretedOrdering.class)' has location not matching its contents: contains class InterpretedOrdering\n",
       "error: error while loading HiveStringType, class file '/usr/hdp/3.1.4.0-315/spark2/jars/spark-catalyst_2.11-2.4.5.jar(org/apache/spark/sql/types/HiveStringType.class)' has location not matching its contents: contains class HiveStringType\n",
       "error: error while loading ArrayType, class file '/usr/hdp/3.1.4.0-315/spark2/jars/spark-catalyst_2.11-2.4.5.jar(org/apache/spark/sql/types/ArrayType.class)' has location not matching its contents: contains class ArrayType\n",
       "error: error while loading BinaryType, class file '/usr/hdp/3.1.4.0-315/spark2/jars/spark-catalyst_2.11-2.4.5.jar(org/apache/spark/sql/types/BinaryType.class)' has location not matching its contents: contains class BinaryType\n",
       "error: error while loading TimestampType, class file '/usr/hdp/3.1.4.0-315/spark2/jars/spark-catalyst_2.11-2.4.5.jar(org/apache/spark/sql/types/TimestampType.class)' has location not matching its contents: contains class TimestampType\n",
       "error: error while loading BooleanType, class file '/usr/hdp/3.1.4.0-315/spark2/jars/spark-catalyst_2.11-2.4.5.jar(org/apache/spark/sql/types/BooleanType.class)' has location not matching its contents: contains class BooleanType\n",
       "error: error while loading IntegerType, class file '/usr/hdp/3.1.4.0-315/spark2/jars/spark-catalyst_2.11-2.4.5.jar(org/apache/spark/sql/types/IntegerType.class)' has location not matching its contents: contains class IntegerType\n",
       "error: error while loading DecimalType, class file '/usr/hdp/3.1.4.0-315/spark2/jars/spark-catalyst_2.11-2.4.5.jar(org/apache/spark/sql/types/DecimalType.class)' has location not matching its contents: contains class DecimalType\n",
       "error: error while loading SQLUserDefinedType, class file '/usr/hdp/3.1.4.0-315/spark2/jars/spark-catalyst_2.11-2.4.5.jar(org/apache/spark/sql/types/SQLUserDefinedType.class)' has location not matching its contents: contains class SQLUserDefinedType\n",
       "error: error while loading FloatType, class file '/usr/hdp/3.1.4.0-315/spark2/jars/spark-catalyst_2.11-2.4.5.jar(org/apache/spark/sql/types/FloatType.class)' has location not matching its contents: contains class FloatType\n",
       "error: error while loading CalendarIntervalType, class file '/usr/hdp/3.1.4.0-315/spark2/jars/spark-catalyst_2.11-2.4.5.jar(org/apache/spark/sql/types/CalendarIntervalType.class)' has location not matching its contents: contains class CalendarIntervalType\n",
       "error: error while loading CharType, class file '/usr/hdp/3.1.4.0-315/spark2/jars/spark-catalyst_2.11-2.4.5.jar(org/apache/spark/sql/types/CharType.class)' has location not matching its contents: contains class CharType\n",
       "error: error while loading MapType, class file '/usr/hdp/3.1.4.0-315/spark2/jars/spark-catalyst_2.11-2.4.5.jar(org/apache/spark/sql/types/MapType.class)' has location not matching its contents: contains class MapType\n",
       "error: error while loading DateType, class file '/usr/hdp/3.1.4.0-315/spark2/jars/spark-catalyst_2.11-2.4.5.jar(org/apache/spark/sql/types/DateType.class)' has location not matching its contents: contains class DateType\n",
       "error: error while loading AtomicType, class file '/usr/hdp/3.1.4.0-315/spark2/jars/spark-catalyst_2.11-2.4.5.jar(org/apache/spark/sql/types/AtomicType.class)' has location not matching its contents: contains class AtomicType\n",
       "error: error while loading VarcharType, class file '/usr/hdp/3.1.4.0-315/spark2/jars/spark-catalyst_2.11-2.4.5.jar(org/apache/spark/sql/types/VarcharType.class)' has location not matching its contents: contains class VarcharType\n",
       "error: error while loading UDTRegistration, class file '/usr/hdp/3.1.4.0-315/spark2/jars/spark-catalyst_2.11-2.4.5.jar(org/apache/spark/sql/types/UDTRegistration.class)' has location not matching its contents: contains class UDTRegistration\n"
      ]
     },
     "metadata": {},
     "output_type": "display_data"
    },
    {
     "data": {
      "text/plain": [
       "[uid: string, age: int ... 2 more fields]"
      ]
     },
     "execution_count": 16,
     "metadata": {},
     "output_type": "execute_result"
    }
   ],
   "source": [
    "val clients_ages = clients.withColumn(\"age_category\",  when($\"age\" >= 18 && $\"age\" <= 24, \"18-24\")\n",
    "                                                      .when($\"age\" >= 25 && $\"age\" <= 34, \"25-34\")\n",
    "                                                      .when($\"age\" >= 35 && $\"age\" <= 44, \"35-44\")\n",
    "                                                      .when($\"age\" >= 45 && $\"age\" <= 54, \"45-54\")\n",
    "                                                      .when($\"age\" >= 55, \">=55\")\n",
    "                                                      .otherwise(\"\"))\n",
    "clients_ages.show(1, false)"
   ]
  },
  {
   "cell_type": "code",
   "execution_count": 17,
   "metadata": {},
   "outputs": [
    {
     "name": "stdout",
     "output_type": "stream",
     "text": [
      "+------------------------------------+------+------------+----------------------------+-------------------+\n",
      "|uid                                 |gender|age_category|web_category                |timestamp          |\n",
      "+------------------------------------+------+------------+----------------------------+-------------------+\n",
      "|40b29579-e845-45c0-a34d-03630d296a81|F     |45-54       |shop_entertainment_equipment|2020-01-01 11:00:00|\n",
      "+------------------------------------+------+------------+----------------------------+-------------------+\n",
      "only showing top 1 row\n",
      "\n"
     ]
    },
    {
     "data": {
      "text/plain": [
       "visits_cl = [uid: string, gender: string ... 3 more fields]\n"
      ]
     },
     "metadata": {},
     "output_type": "display_data"
    },
    {
     "data": {
      "text/plain": [
       "[uid: string, gender: string ... 3 more fields]"
      ]
     },
     "execution_count": 17,
     "metadata": {},
     "output_type": "execute_result"
    }
   ],
   "source": [
    "val visits_cl = clients_ages.as(\"a\")\n",
    "                    .join(visits.as(\"b\"), $\"a.uid\" === $\"b.uid\", \"inner\")\n",
    "                    .select($\"a.uid\"\n",
    "                            ,$\"a.gender\"\n",
    "                            ,$\"a.age_category\"\n",
    "                            ,concat(lit(\"shop_\"), lower(regexp_replace($\"b.category\", \"-\", \"_\"))).as(\"web_category\")\n",
    "                            ,$\"b.timestamp\")\n",
    "                    .filter(!$\"web_category\".isNull)\n",
    "                    .cache()\n",
    "\n",
    "visits_cl.show(1, false)"
   ]
  },
  {
   "cell_type": "code",
   "execution_count": 18,
   "metadata": {},
   "outputs": [
    {
     "name": "stdout",
     "output_type": "stream",
     "text": [
      "-RECORD 0--------------------------------------------------------------\n",
      " uid                            | d50192e5-c44e-4ae8-ae7a-7cfe67c8b777 \n",
      " shop_cameras                   | null                                 \n",
      " shop_clothing                  | null                                 \n",
      " shop_computers                 | 2                                    \n",
      " shop_cosmetics                 | null                                 \n",
      " shop_entertainment_equipment   | 1                                    \n",
      " shop_everyday_jewelry          | null                                 \n",
      " shop_house_repairs_paint_tools | null                                 \n",
      " shop_household_appliances      | null                                 \n",
      " shop_household_furniture       | null                                 \n",
      " shop_kitchen_appliances        | null                                 \n",
      " shop_kitchen_utensils          | null                                 \n",
      " shop_luggage                   | null                                 \n",
      " shop_mobile_phones             | 1                                    \n",
      " shop_shoes                     | null                                 \n",
      " shop_sports_equipment          | null                                 \n",
      " shop_toys                      | null                                 \n",
      "\n"
     ]
    },
    {
     "data": {
      "text/plain": [
       "visits_web = [uid: string, shop_cameras: bigint ... 15 more fields]\n"
      ]
     },
     "metadata": {},
     "output_type": "display_data"
    },
    {
     "data": {
      "text/plain": [
       "[uid: string, shop_cameras: bigint ... 15 more fields]"
      ]
     },
     "execution_count": 18,
     "metadata": {},
     "output_type": "execute_result"
    }
   ],
   "source": [
    "val visits_web = \n",
    "    visits_cl\n",
    "        .groupBy(\"uid\")\n",
    "        .pivot(\"web_category\")\n",
    "        .count()\n",
    "        \n",
    "visits_web.filter($\"uid\" === \"d50192e5-c44e-4ae8-ae7a-7cfe67c8b777\").show(1, 100, true)"
   ]
  },
  {
   "cell_type": "markdown",
   "metadata": {},
   "source": [
    "### weblogs"
   ]
  },
  {
   "cell_type": "code",
   "execution_count": 19,
   "metadata": {},
   "outputs": [
    {
     "data": {
      "text/plain": [
       "weblogs_explode = [uid: string, web: struct<timestamp: bigint, url: string>]\n"
      ]
     },
     "metadata": {},
     "output_type": "display_data"
    },
    {
     "data": {
      "text/plain": [
       "[uid: string, web: struct<timestamp: bigint, url: string>]"
      ]
     },
     "execution_count": 19,
     "metadata": {},
     "output_type": "execute_result"
    }
   ],
   "source": [
    "val weblogs_explode = weblogs\n",
    "                            .select($\"uid\"\n",
    "                                    ,explode($\"visits\").as(\"web\"))\n",
    "                            .cache()\n",
    "\n",
    "weblogs_explode"
   ]
  },
  {
   "cell_type": "code",
   "execution_count": 20,
   "metadata": {},
   "outputs": [
    {
     "name": "stdout",
     "output_type": "stream",
     "text": [
      "-RECORD 0----------------------------------------------\n",
      " uid       | 3761db96-4a89-4612-be74-9567ab2f21aa      \n",
      " url       | http://na.buhgalteria.ru/document/n117802 \n",
      " host      | na.buhgalteria.ru                         \n",
      " timestamp | 1419596441719                             \n",
      "only showing top 1 row\n",
      "\n"
     ]
    },
    {
     "data": {
      "text/plain": [
       "weblogs_url = [uid: string, url: string ... 2 more fields]\n"
      ]
     },
     "metadata": {},
     "output_type": "display_data"
    },
    {
     "data": {
      "text/plain": [
       "[uid: string, url: string ... 2 more fields]"
      ]
     },
     "execution_count": 20,
     "metadata": {},
     "output_type": "execute_result"
    }
   ],
   "source": [
    "val weblogs_url = weblogs_explode\n",
    "                            .withColumn(\"url\", weblogs_explode(\"web.url\"))\n",
    "                            .withColumn(\"timestamp\", weblogs_explode(\"web.timestamp\"))\n",
    "                            .withColumn(\"host\", callUDF(\"parse_url\", $\"url\", lit(\"HOST\")))\n",
    "                            .select($\"uid\", $\"url\", $\"host\", $\"timestamp\")\n",
    "                            .cache()\n",
    "\n",
    "weblogs_url.show(1, 1000, true)"
   ]
  },
  {
   "cell_type": "code",
   "execution_count": 21,
   "metadata": {},
   "outputs": [
    {
     "name": "stdout",
     "output_type": "stream",
     "text": [
      "+------------------------------------+------+------------+-----------------+-------------+\n",
      "|uid                                 |gender|age_category|host             |timestamp    |\n",
      "+------------------------------------+------+------------+-----------------+-------------+\n",
      "|3761db96-4a89-4612-be74-9567ab2f21aa|F     |35-44       |na.buhgalteria.ru|1419596441719|\n",
      "+------------------------------------+------+------------+-----------------+-------------+\n",
      "only showing top 1 row\n",
      "\n"
     ]
    },
    {
     "data": {
      "text/plain": [
       "weblogs_cl = [uid: string, gender: string ... 3 more fields]\n"
      ]
     },
     "metadata": {},
     "output_type": "display_data"
    },
    {
     "data": {
      "text/plain": [
       "[uid: string, gender: string ... 3 more fields]"
      ]
     },
     "execution_count": 21,
     "metadata": {},
     "output_type": "execute_result"
    }
   ],
   "source": [
    "val weblogs_cl = clients_ages.as(\"a\")\n",
    "                    .join(weblogs_url.as(\"b\"), $\"a.uid\" === $\"b.uid\", \"inner\")\n",
    "                    .select($\"a.uid\"\n",
    "                            ,$\"a.gender\"\n",
    "                            ,$\"a.age_category\"\n",
    "                            ,$\"b.host\"\n",
    "                            ,$\"b.timestamp\")\n",
    "                    .cache()\n",
    "\n",
    "weblogs_cl.show(1, false)"
   ]
  },
  {
   "cell_type": "code",
   "execution_count": 22,
   "metadata": {},
   "outputs": [
    {
     "name": "stdout",
     "output_type": "stream",
     "text": [
      "+------------------------------------+------+------------+------------------+--------------+-------------+-------------+\n",
      "|uid                                 |gender|age_category|host              |host_not_www  |timestamp    |shop_category|\n",
      "+------------------------------------+------+------------+------------------+--------------+-------------+-------------+\n",
      "|3761db96-4a89-4612-be74-9567ab2f21aa|F     |35-44       |www.buhgalteria.ru|buhgalteria.ru|1419596379453|web_finance  |\n",
      "+------------------------------------+------+------------+------------------+--------------+-------------+-------------+\n",
      "only showing top 1 row\n",
      "\n"
     ]
    },
    {
     "data": {
      "text/plain": [
       "weblogs_cl_cat = [uid: string, gender: string ... 5 more fields]\n"
      ]
     },
     "metadata": {},
     "output_type": "display_data"
    },
    {
     "data": {
      "text/plain": [
       "[uid: string, gender: string ... 5 more fields]"
      ]
     },
     "execution_count": 22,
     "metadata": {},
     "output_type": "execute_result"
    }
   ],
   "source": [
    "val weblogs_cl_cat = weblogs_cl.as(\"a\")\n",
    "                        .join(domain_cats.as(\"b\"), regexp_replace($\"a.host\", \"www.\", \"\") === $\"b.domain\", \"left\")\n",
    "                        .select($\"a.uid\"\n",
    "                                ,$\"a.gender\"\n",
    "                                ,$\"a.age_category\"\n",
    "                                ,$\"a.host\"\n",
    "                                ,regexp_replace($\"a.host\", \"www.\", \"\").as(\"host_not_www\")\n",
    "                                ,$\"a.timestamp\"\n",
    "                                ,concat(lit(\"web_\"), lower(regexp_replace($\"b.category\", \"-\", \"_\"))).as(\"shop_category\"))\n",
    "                                .filter(!$\"shop_category\".isNull)\n",
    "                        .cache()\n",
    "\n",
    "weblogs_cl_cat.show(1, false)"
   ]
  },
  {
   "cell_type": "code",
   "execution_count": 23,
   "metadata": {},
   "outputs": [
    {
     "data": {
      "text/plain": [
       "weblogs_web = [uid: string, web_arts_and_entertainment: bigint ... 22 more fields]\n"
      ]
     },
     "metadata": {},
     "output_type": "display_data"
    },
    {
     "data": {
      "text/plain": [
       "[uid: string, web_arts_and_entertainment: bigint ... 22 more fields]"
      ]
     },
     "execution_count": 23,
     "metadata": {},
     "output_type": "execute_result"
    }
   ],
   "source": [
    "val weblogs_web = \n",
    "    weblogs_cl_cat\n",
    "        .groupBy(\"uid\")\n",
    "        .pivot(\"shop_category\")\n",
    "        .agg(count('host_not_www))\n",
    "\n",
    "//weblogs_web.show(1, 100, true)"
   ]
  },
  {
   "cell_type": "code",
   "execution_count": 24,
   "metadata": {},
   "outputs": [
    {
     "data": {
      "text/plain": [
       "true"
      ]
     },
     "execution_count": 24,
     "metadata": {},
     "output_type": "execute_result"
    }
   ],
   "source": [
    "clients_ages.select($\"uid\").distinct().count() == clients_ages.count()"
   ]
  },
  {
   "cell_type": "code",
   "execution_count": 25,
   "metadata": {},
   "outputs": [
    {
     "name": "stdout",
     "output_type": "stream",
     "text": [
      "-RECORD 0--------------------------------------------------------------\n",
      " uid                            | 0392f398-ea7e-4a1b-8c9d-d04df2a2a331 \n",
      " gender                         | F                                    \n",
      " age_cat                        | >=55                                 \n",
      " shop_cameras                   | 1                                    \n",
      " shop_clothing                  | null                                 \n",
      " shop_computers                 | 1                                    \n",
      " shop_cosmetics                 | null                                 \n",
      " shop_entertainment_equipment   | 1                                    \n",
      " shop_everyday_jewelry          | null                                 \n",
      " shop_house_repairs_paint_tools | null                                 \n",
      " shop_household_appliances      | null                                 \n",
      " shop_household_furniture       | null                                 \n",
      " shop_kitchen_appliances        | null                                 \n",
      " shop_kitchen_utensils          | null                                 \n",
      " shop_luggage                   | null                                 \n",
      " shop_mobile_phones             | 1                                    \n",
      " shop_shoes                     | null                                 \n",
      " shop_sports_equipment          | null                                 \n",
      " shop_toys                      | null                                 \n",
      " web_arts_and_entertainment     | 1                                    \n",
      " web_autos_and_vehicles         | null                                 \n",
      " web_beauty_and_fitness         | 5                                    \n",
      " web_books_and_literature       | null                                 \n",
      " web_business_and_industry      | 3                                    \n",
      " web_career_and_education       | null                                 \n",
      " web_computer_and_electronics   | null                                 \n",
      " web_finance                    | null                                 \n",
      " web_food_and_drink             | null                                 \n",
      " web_gambling                   | null                                 \n",
      " web_games                      | null                                 \n",
      " web_health                     | 3                                    \n",
      " web_home_and_garden            | null                                 \n",
      " web_internet_and_telecom       | null                                 \n",
      " web_law_and_government         | 3                                    \n",
      " web_news_and_media             | 7                                    \n",
      " web_pets_and_animals           | null                                 \n",
      " web_recreation_and_hobbies     | null                                 \n",
      " web_reference                  | 1                                    \n",
      " web_science                    | null                                 \n",
      " web_shopping                   | 3                                    \n",
      " web_sports                     | null                                 \n",
      " web_travel                     | null                                 \n",
      "only showing top 1 row\n",
      "\n"
     ]
    },
    {
     "data": {
      "text/plain": [
       "res = [uid: string, gender: string ... 40 more fields]\n"
      ]
     },
     "metadata": {},
     "output_type": "display_data"
    },
    {
     "data": {
      "text/plain": [
       "[uid: string, gender: string ... 40 more fields]"
      ]
     },
     "execution_count": 25,
     "metadata": {},
     "output_type": "execute_result"
    }
   ],
   "source": [
    "val res = clients_ages.as(\"a\")\n",
    "                        .join(visits_web.as(\"b\"), $\"a.uid\" === $\"b.uid\", \"left\")\n",
    "                        .join(weblogs_web.as(\"c\"), $\"a.uid\" === $\"c.uid\", \"left\")\n",
    "                        .select($\"a.uid\"\n",
    "                                ,$\"a.gender\"\n",
    "                                ,$\"a.age_category\".as(\"age_cat\")\n",
    "                                ,$\"b.*\"\n",
    "                                ,$\"c.*\")\n",
    "                        .drop($\"b.uid\")\n",
    "                        .drop($\"c.uid\")\n",
    "                        .cache()\n",
    "                                \n",
    "res.show(1, 1000, true)"
   ]
  },
  {
   "cell_type": "code",
   "execution_count": 27,
   "metadata": {},
   "outputs": [
    {
     "data": {
      "text/plain": [
       "36138"
      ]
     },
     "execution_count": 27,
     "metadata": {},
     "output_type": "execute_result"
    }
   ],
   "source": [
    "res.count()"
   ]
  },
  {
   "cell_type": "code",
   "execution_count": 29,
   "metadata": {},
   "outputs": [],
   "source": [
    "res\n",
    "    .write\n",
    "    .mode(\"overwrite\")\n",
    "    .format(\"jdbc\")\n",
    "    .option(\"url\", s\"jdbc:postgresql://10.0.1.9:5432/$username\")\n",
    "    .option(\"dbtable\", \"clients\")\n",
    "    .option(\"user\", username)\n",
    "    .option(\"password\", password)\n",
    "    .option(\"driver\", \"org.postgresql.Driver\")\n",
    "    .save()"
   ]
  },
  {
   "cell_type": "code",
   "execution_count": 30,
   "metadata": {},
   "outputs": [
    {
     "name": "stdout",
     "output_type": "stream",
     "text": [
      "-RECORD 0--------------------------------------------------------------\n",
      " uid                            | d50192e5-c44e-4ae8-ae7a-7cfe67c8b777 \n",
      " gender                         | F                                    \n",
      " age_cat                        | 18-24                                \n",
      " shop_cameras                   | null                                 \n",
      " shop_clothing                  | null                                 \n",
      " shop_computers                 | 2                                    \n",
      " shop_cosmetics                 | null                                 \n",
      " shop_entertainment_equipment   | 1                                    \n",
      " shop_everyday_jewelry          | null                                 \n",
      " shop_house_repairs_paint_tools | null                                 \n",
      " shop_household_appliances      | null                                 \n",
      " shop_household_furniture       | null                                 \n",
      " shop_kitchen_appliances        | null                                 \n",
      " shop_kitchen_utensils          | null                                 \n",
      " shop_luggage                   | null                                 \n",
      " shop_mobile_phones             | 1                                    \n",
      " shop_shoes                     | null                                 \n",
      " shop_sports_equipment          | null                                 \n",
      " shop_toys                      | null                                 \n",
      " web_arts_and_entertainment     | null                                 \n",
      " web_autos_and_vehicles         | null                                 \n",
      " web_beauty_and_fitness         | null                                 \n",
      " web_books_and_literature       | null                                 \n",
      " web_business_and_industry      | null                                 \n",
      " web_career_and_education       | null                                 \n",
      " web_computer_and_electronics   | null                                 \n",
      " web_finance                    | null                                 \n",
      " web_food_and_drink             | null                                 \n",
      " web_gambling                   | null                                 \n",
      " web_games                      | null                                 \n",
      " web_health                     | null                                 \n",
      " web_home_and_garden            | null                                 \n",
      " web_internet_and_telecom       | null                                 \n",
      " web_law_and_government         | null                                 \n",
      " web_news_and_media             | 4                                    \n",
      " web_pets_and_animals           | null                                 \n",
      " web_recreation_and_hobbies     | null                                 \n",
      " web_reference                  | null                                 \n",
      " web_science                    | null                                 \n",
      " web_shopping                   | null                                 \n",
      " web_sports                     | null                                 \n",
      " web_travel                     | null                                 \n",
      "\n"
     ]
    }
   ],
   "source": [
    "//check\n",
    "res.filter($\"uid\" === \"d50192e5-c44e-4ae8-ae7a-7cfe67c8b777\").show(3, 1000, true)"
   ]
  },
  {
   "cell_type": "code",
   "execution_count": 33,
   "metadata": {},
   "outputs": [],
   "source": [
    "sc.stop()"
   ]
  },
  {
   "cell_type": "code",
   "execution_count": null,
   "metadata": {},
   "outputs": [],
   "source": [
    "//GRANT SELECT ON TABLE clients TO PUBLIC;"
   ]
  }
 ],
 "metadata": {
  "kernelspec": {
   "display_name": "Apache Toree - Scala",
   "language": "scala",
   "name": "apache_toree_scala"
  },
  "language_info": {
   "codemirror_mode": "text/x-scala",
   "file_extension": ".scala",
   "mimetype": "text/x-scala",
   "name": "scala",
   "pygments_lexer": "scala",
   "version": "2.11.12"
  }
 },
 "nbformat": 4,
 "nbformat_minor": 2
}
